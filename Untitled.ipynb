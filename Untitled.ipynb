{
 "cells": [
  {
   "cell_type": "code",
   "execution_count": 1,
   "id": "238b56cd",
   "metadata": {},
   "outputs": [],
   "source": [
    "import numpy as np\n",
    "import os\n",
    "import glob\n",
    "import json\n",
    "import random\n",
    "import joblib\n",
    "from tensorflow import keras\n",
    "from tensorflow.keras.preprocessing.text import Tokenizer\n",
    "from tensorflow.keras.preprocessing.sequence import pad_sequences\n",
    "from tensorflow.keras.utils import to_categorical\n",
    "from tensorflow.keras.models import Model\n",
    "from tensorflow.keras.layers import Input, LSTM, Dense\n",
    "from tensorflow.keras import optimizers\n",
    "from tensorflow.keras.callbacks import EarlyStopping\n",
    "from tensorflow.keras.models import load_model"
   ]
  },
  {
   "cell_type": "code",
   "execution_count": 3,
   "id": "b021596f",
   "metadata": {},
   "outputs": [],
   "source": [
    "model=load_model(r'feat\\modelfinal.h5')"
   ]
  },
  {
   "cell_type": "code",
   "execution_count": 4,
   "id": "a282c43a",
   "metadata": {},
   "outputs": [
    {
     "name": "stdout",
     "output_type": "stream",
     "text": [
      "Model: \"model\"\n",
      "__________________________________________________________________________________________________\n",
      "Layer (type)                    Output Shape         Param #     Connected to                     \n",
      "==================================================================================================\n",
      "encoder_inputs (InputLayer)     [(None, 80, 4096)]   0                                            \n",
      "__________________________________________________________________________________________________\n",
      "decoder_inputs (InputLayer)     [(None, 10, 1500)]   0                                            \n",
      "__________________________________________________________________________________________________\n",
      "endcoder_lstm (LSTM)            [(None, 80, 512), (N 9439232     encoder_inputs[0][0]             \n",
      "__________________________________________________________________________________________________\n",
      "decoder_lstm (LSTM)             [(None, 10, 512), (N 4122624     decoder_inputs[0][0]             \n",
      "                                                                 endcoder_lstm[0][1]              \n",
      "                                                                 endcoder_lstm[0][2]              \n",
      "__________________________________________________________________________________________________\n",
      "decoder_relu (Dense)            (None, 10, 1500)     769500      decoder_lstm[0][0]               \n",
      "==================================================================================================\n",
      "Total params: 14,331,356\n",
      "Trainable params: 14,331,356\n",
      "Non-trainable params: 0\n",
      "__________________________________________________________________________________________________\n"
     ]
    }
   ],
   "source": [
    "model.summary()"
   ]
  },
  {
   "cell_type": "code",
   "execution_count": 6,
   "id": "2ef5f205",
   "metadata": {},
   "outputs": [],
   "source": [
    "with open(os.path.join('feat\\model_final', 'tokenizer' + str(1500)), 'rb') as file:\n",
    "    tokenizer = joblib.load(file)"
   ]
  },
  {
   "cell_type": "code",
   "execution_count": null,
   "id": "7fde43ae",
   "metadata": {},
   "outputs": [],
   "source": []
  }
 ],
 "metadata": {
  "kernelspec": {
   "display_name": "Python 3",
   "language": "python",
   "name": "python3"
  },
  "language_info": {
   "codemirror_mode": {
    "name": "ipython",
    "version": 3
   },
   "file_extension": ".py",
   "mimetype": "text/x-python",
   "name": "python",
   "nbconvert_exporter": "python",
   "pygments_lexer": "ipython3",
   "version": "3.6.13"
  }
 },
 "nbformat": 4,
 "nbformat_minor": 5
}
